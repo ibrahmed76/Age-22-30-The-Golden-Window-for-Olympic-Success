{
  "nbformat": 4,
  "nbformat_minor": 0,
  "metadata": {
    "colab": {
      "provenance": []
    },
    "kernelspec": {
      "name": "python3",
      "display_name": "Python 3"
    },
    "language_info": {
      "name": "python"
    }
  },
  "cells": [
    {
      "cell_type": "markdown",
      "source": [
        "Here you should:\n",
        "\n",
        "\n",
        "*   upload medals.csv from Paris_2024 datasets.\n",
        "*   upload athletes.csv from Paris_2024 datasets.\n",
        "*   upload tokyo_results.csv from tokyo_2020 datasets.\n",
        "\n",
        "They are required in this notebook for applying operations of cleaning and fixing.\n",
        "After running notebook download tokyo_medals.csv and paris_medals.csv"
      ],
      "metadata": {
        "id": "U29ckpLTbutW"
      }
    },
    {
      "cell_type": "markdown",
      "source": [
        "# **Imports**"
      ],
      "metadata": {
        "id": "b-8k5KDDCFc8"
      }
    },
    {
      "cell_type": "code",
      "source": [
        "import pandas as pd\n",
        "from datetime import datetime"
      ],
      "metadata": {
        "id": "QmOGcB7QCFMk"
      },
      "execution_count": null,
      "outputs": []
    },
    {
      "cell_type": "markdown",
      "source": [
        "# **Load data files**"
      ],
      "metadata": {
        "id": "2vK3LVV7CEIt"
      }
    },
    {
      "cell_type": "code",
      "source": [
        "paris=pd.read_csv('medals.csv')\n",
        "tokyo = pd.read_csv('tokyo_results.csv',encoding='ISO-8859-1')\n",
        "paris_athletes = pd.read_csv('athletes.csv')"
      ],
      "metadata": {
        "id": "jLzNtb9yCD2t"
      },
      "execution_count": null,
      "outputs": []
    },
    {
      "cell_type": "markdown",
      "source": [
        "# **Clean tokyo csv file**"
      ],
      "metadata": {
        "id": "NZi4kODMB2FF"
      }
    },
    {
      "cell_type": "code",
      "execution_count": null,
      "metadata": {
        "id": "oyFlfsBPBzvs"
      },
      "outputs": [],
      "source": [
        "#Here we remove rows with missing values in the 'Medal' column in tokyo_results.csv\n",
        "cleaned = tokyo.dropna(subset=['Medal'])\n",
        "\n",
        "#Here we save cleaned dataframe as csv called tokyo_medals.csv\n",
        "cleaned.to_csv('tokyo_medals.csv', index=False)"
      ]
    },
    {
      "cell_type": "markdown",
      "source": [
        "# **Make medals type same for both datasets**"
      ],
      "metadata": {
        "id": "zHq-xG1TEFkc"
      }
    },
    {
      "cell_type": "code",
      "source": [
        "#Here we replace detailed medal names with simpler ones in paris dataframe\n",
        "paris['medal_type'] = paris['medal_type'].replace({\n",
        "    'Gold Medal': 'Gold',\n",
        "    'Silver Medal': 'Silver',\n",
        "    'Bronze Medal': 'Bronze'\n",
        "})\n",
        "\n",
        "#Here we save updated dataframe as csv called paris_med.csv\n",
        "paris.to_csv('paris_med.csv', index=False)"
      ],
      "metadata": {
        "id": "Ybx11uI2EEss"
      },
      "execution_count": null,
      "outputs": []
    },
    {
      "cell_type": "markdown",
      "source": [
        "# **Calculating age of paris 2024 olympics athletes**"
      ],
      "metadata": {
        "id": "yN_6tbvUKu0E"
      }
    },
    {
      "cell_type": "code",
      "source": [
        "#Here we convert 'birth_date' column in the paris_athletes dataFrame to datetime format\n",
        "paris_athletes['birth_date'] = pd.to_datetime(paris_athletes['birth_date'])\n",
        "\n",
        "#Here we define the start date of Paris 2024 Olympics\n",
        "olympics_start_date = datetime(2024, 7, 26)\n",
        "\n",
        "#Here we made a function to calculate age on a specific date\n",
        "def calculate_age_on_date(birth_date, on_date):\n",
        "    age = on_date.year - birth_date.year - ((on_date.month, on_date.day) < (birth_date.month, birth_date.day))\n",
        "    return age\n",
        "\n",
        "#Here we apply the age calculation function to the 'birth_date' column and create a new column called 'age'\n",
        "paris_athletes['age'] = paris_athletes['birth_date'].apply(lambda bd: calculate_age_on_date(bd, olympics_start_date))\n",
        "\n",
        "#Here we saved updated dataframe as csv file called athletes_with_age.csv\n",
        "paris_athletes.to_csv('athletes_with_age.csv', index=False)"
      ],
      "metadata": {
        "id": "5JTod8CqK6JE"
      },
      "execution_count": null,
      "outputs": []
    },
    {
      "cell_type": "markdown",
      "source": [
        "# **Add age column to paris_medals dataset**"
      ],
      "metadata": {
        "id": "GmIjD1uDPjvd"
      }
    },
    {
      "cell_type": "code",
      "source": [
        "#Here we load updated datasets\n",
        "athletes_up = pd.read_csv('athletes_with_age.csv')\n",
        "paris_up = pd.read_csv('paris_med.csv')\n",
        "\n",
        "#Here we convert 'code' columns in both datasets to string type for consistency in merging\n",
        "athletes_up['code'] = athletes_up['code'].astype(str)\n",
        "paris_up['code'] = paris_up['code'].astype(str)\n",
        "\n",
        "#Here we combine medal data in paris_med.csv with athletes age in athletes_with_age.csv by joining them by code column.\n",
        "merged = paris_up.merge(athletes_up[['code', 'age']], on='code', how='left')\n",
        "\n",
        "#Here we save our merged dataframe as csv file called paris_medals.csv\n",
        "merged.to_csv('paris_medals.csv', index=False)"
      ],
      "metadata": {
        "id": "NFAGZH8IM8aT"
      },
      "execution_count": null,
      "outputs": []
    }
  ]
}